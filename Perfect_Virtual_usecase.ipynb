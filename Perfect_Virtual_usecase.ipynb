{
 "cells": [
  {
   "cell_type": "markdown",
   "id": "1165cd77",
   "metadata": {},
   "source": [
    "# Perfect Virtual- \n",
    "Cryptocurrency usecase"
   ]
  },
  {
   "cell_type": "code",
   "execution_count": 1,
   "id": "14ce4eb8",
   "metadata": {},
   "outputs": [],
   "source": [
    "import numpy as np \n",
    "import pandas as pd\n",
    "import matplotlib as plt\n",
    "import keras \n",
    "import cryptocompare"
   ]
  },
  {
   "cell_type": "code",
   "execution_count": null,
   "id": "9556521a",
   "metadata": {},
   "outputs": [],
   "source": []
  }
 ],
 "metadata": {
  "kernelspec": {
   "display_name": "Python 3 (ipykernel)",
   "language": "python",
   "name": "python3"
  },
  "language_info": {
   "codemirror_mode": {
    "name": "ipython",
    "version": 3
   },
   "file_extension": ".py",
   "mimetype": "text/x-python",
   "name": "python",
   "nbconvert_exporter": "python",
   "pygments_lexer": "ipython3",
   "version": "3.8.11"
  }
 },
 "nbformat": 4,
 "nbformat_minor": 5
}
