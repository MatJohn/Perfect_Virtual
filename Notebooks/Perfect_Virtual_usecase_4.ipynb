{
 "cells": [
  {
   "cell_type": "markdown",
   "id": "1dfb128f",
   "metadata": {},
   "source": [
    "# Perfect Virtual- \n",
    "Cryptocurrency usecase: Utilise a form  of Recurrent Neural Network (RNN) model for the prediction of Bitcoin prices from historical data and analysis of social media trends. \n",
    "## Build Process:\n",
    "1. Generate API key to access Bitcoin data from the [cryptocompare API](https://min-api.cryptocompare.com/)\n",
    "2. Choose relevent data features e.g. price, volume, online engagement\n",
    "3. Preprocess the data\n",
    "4. Build the model architecture \n",
    "5. Train the model\n",
    "6. Evaluate model performance\n",
    "7. Identify feature importance"
   ]
  },
  {
   "cell_type": "code",
   "execution_count": 1,
   "id": "9349848e",
   "metadata": {},
   "outputs": [],
   "source": [
    "import numpy as np \n",
    "from numpy import concatenate\n",
    "from math import sqrt\n",
    "import pandas as pd\n",
    "import matplotlib.pyplot as plt\n",
    "import keras \n",
    "import json\n",
    "import seaborn as sns\n",
    "from keras.models import Sequential, load_model\n",
    "from keras.callbacks import ModelCheckpoint\n",
    "from keras import layers\n",
    "from keras.layers import Dense\n",
    "from keras.layers import LSTM\n",
    "from keras.layers import Dropout\n",
    "#scikitlearn\n",
    "from sklearn.preprocessing import MinMaxScaler\n",
    "from sklearn.model_selection import train_test_split\n",
    "from sklearn.metrics import mean_squared_error\n",
    "import cryptocompare\n",
    "import requests\n",
    "from datetime import datetime\n",
    "# pretty printing of pandas dataframe\n",
    "pd.set_option('expand_frame_repr', False) "
   ]
  },
  {
   "cell_type": "code",
   "execution_count": 2,
   "id": "2400e542",
   "metadata": {},
   "outputs": [],
   "source": [
    "apiKey = \"98901418980628c0e095f5d511be7435c1cbf090ed813f6c82fc88a8f939c9a3\""
   ]
  },
  {
   "cell_type": "code",
   "execution_count": 3,
   "id": "01ba3c34",
   "metadata": {},
   "outputs": [],
   "source": [
    "from_symbol = 'BTC'\n",
    "to_symbol = 'USD'\n",
    "exchange = 'Bitstamp'\n",
    "datetime_interval = 'day'"
   ]
  },
  {
   "cell_type": "code",
   "execution_count": 4,
   "id": "10a69b2d",
   "metadata": {},
   "outputs": [
    {
     "name": "stdout",
     "output_type": "stream",
     "text": [
      "Downloading day trading data for BTC USD from Bitstamp\n"
     ]
    },
    {
     "name": "stderr",
     "output_type": "stream",
     "text": [
      "C:\\Users\\matth\\AppData\\Local\\Temp/ipykernel_7408/2307276692.py:24: FutureWarning: pandas.io.json.json_normalize is deprecated, use pandas.json_normalize instead\n",
      "  df = pd.io.json.json_normalize(data, ['Data'])\n",
      "C:\\Users\\matth\\AppData\\Local\\Temp/ipykernel_7408/2307276692.py:30: FutureWarning: Dropping of nuisance columns in DataFrame reductions (with 'numeric_only=None') is deprecated; in a future version this will raise TypeError.  Select only valid columns before calling the reduction.\n",
      "  indices = df[df.sum(axis=1) == 0].index\n"
     ]
    },
    {
     "name": "stdout",
     "output_type": "stream",
     "text": [
      "Filtering 0 empty datapoints\n",
      "Saving data to BTC_USD_Bitstamp_day_2021-11-12.csv\n"
     ]
    }
   ],
   "source": [
    "def get_filename(from_symbol, to_symbol, exchange, datetime_interval, download_date):\n",
    "    return '%s_%s_%s_%s_%s.csv' % (from_symbol, to_symbol, exchange, datetime_interval, download_date)\n",
    "\n",
    "\n",
    "def download_data(from_symbol, to_symbol, exchange, datetime_interval):\n",
    "    supported_intervals = {'minute', 'hour', 'day'}\n",
    "    assert datetime_interval in supported_intervals,\\\n",
    "        'datetime_interval should be one of %s' % supported_intervals\n",
    "\n",
    "    print('Downloading %s trading data for %s %s from %s' %\n",
    "          (datetime_interval, from_symbol, to_symbol, exchange))\n",
    "    base_url = 'https://min-api.cryptocompare.com/data/histo'\n",
    "    url = '%s%s' % (base_url, datetime_interval)\n",
    "\n",
    "    params = {'fsym': from_symbol, 'tsym': to_symbol,\n",
    "              'limit': 2000, 'aggregate': 1,\n",
    "              'e': exchange}\n",
    "    request = requests.get(url, params=params)\n",
    "    data = request.json()\n",
    "    return data\n",
    "\n",
    "\n",
    "def convert_to_dataframe(data):\n",
    "    df = pd.io.json.json_normalize(data, ['Data'])\n",
    "    df['datetime'] = pd.to_datetime(df.time, unit='s')\n",
    "    df = df[['datetime', 'low', 'high', 'open',\n",
    "             'close', 'volumefrom', 'volumeto']]\n",
    "    return df\n",
    "def filter_empty_datapoints(df):\n",
    "    indices = df[df.sum(axis=1) == 0].index\n",
    "    print('Filtering %d empty datapoints' % indices.shape[0])\n",
    "    df = df.drop(indices)\n",
    "    return df\n",
    "\n",
    "\n",
    "data = download_data(from_symbol, to_symbol, exchange, datetime_interval)\n",
    "df = convert_to_dataframe(data)\n",
    "df = filter_empty_datapoints(df)\n",
    "\n",
    "current_datetime = datetime.now().date().isoformat()\n",
    "filename = get_filename(from_symbol, to_symbol, exchange, datetime_interval, current_datetime)\n",
    "print('Saving data to %s' % filename)\n",
    "df.to_csv(filename, index=False)"
   ]
  },
  {
   "cell_type": "code",
   "execution_count": 5,
   "id": "d77997a6",
   "metadata": {},
   "outputs": [
    {
     "name": "stdout",
     "output_type": "stream",
     "text": [
      "Reading data from BTC_USD_Bitstamp_day_2021-11-12.csv\n",
      "(2001, 6)\n"
     ]
    }
   ],
   "source": [
    "import pandas as pd\n",
    "\n",
    "def read_dataset(filename):\n",
    "    print('Reading data from %s' % filename)\n",
    "    df = pd.read_csv(filename)\n",
    "    df.datetime = pd.to_datetime(df.datetime) # change type from object to datetime\n",
    "    df = df.set_index('datetime') \n",
    "    df = df.sort_index() # sort by datetime\n",
    "    print(df.shape)\n",
    "    return df\n",
    "\n",
    "df = read_dataset(filename)"
   ]
  },
  {
   "cell_type": "code",
   "execution_count": 6,
   "id": "d68a8f0c",
   "metadata": {},
   "outputs": [
    {
     "data": {
      "text/html": [
       "<div>\n",
       "<style scoped>\n",
       "    .dataframe tbody tr th:only-of-type {\n",
       "        vertical-align: middle;\n",
       "    }\n",
       "\n",
       "    .dataframe tbody tr th {\n",
       "        vertical-align: top;\n",
       "    }\n",
       "\n",
       "    .dataframe thead th {\n",
       "        text-align: right;\n",
       "    }\n",
       "</style>\n",
       "<table border=\"1\" class=\"dataframe\">\n",
       "  <thead>\n",
       "    <tr style=\"text-align: right;\">\n",
       "      <th></th>\n",
       "      <th>low</th>\n",
       "      <th>high</th>\n",
       "      <th>open</th>\n",
       "      <th>close</th>\n",
       "      <th>volumefrom</th>\n",
       "      <th>volumeto</th>\n",
       "    </tr>\n",
       "    <tr>\n",
       "      <th>datetime</th>\n",
       "      <th></th>\n",
       "      <th></th>\n",
       "      <th></th>\n",
       "      <th></th>\n",
       "      <th></th>\n",
       "      <th></th>\n",
       "    </tr>\n",
       "  </thead>\n",
       "  <tbody>\n",
       "    <tr>\n",
       "      <th>2021-11-08</th>\n",
       "      <td>63300.00</td>\n",
       "      <td>67803.55</td>\n",
       "      <td>63300.00</td>\n",
       "      <td>67559.00</td>\n",
       "      <td>2715.42</td>\n",
       "      <td>1.785721e+08</td>\n",
       "    </tr>\n",
       "    <tr>\n",
       "      <th>2021-11-09</th>\n",
       "      <td>66250.00</td>\n",
       "      <td>68564.40</td>\n",
       "      <td>67559.00</td>\n",
       "      <td>66945.72</td>\n",
       "      <td>2136.86</td>\n",
       "      <td>1.442011e+08</td>\n",
       "    </tr>\n",
       "    <tr>\n",
       "      <th>2021-11-10</th>\n",
       "      <td>62856.71</td>\n",
       "      <td>69000.00</td>\n",
       "      <td>66945.72</td>\n",
       "      <td>64921.43</td>\n",
       "      <td>3419.12</td>\n",
       "      <td>2.265382e+08</td>\n",
       "    </tr>\n",
       "    <tr>\n",
       "      <th>2021-11-11</th>\n",
       "      <td>64140.00</td>\n",
       "      <td>65625.44</td>\n",
       "      <td>64921.43</td>\n",
       "      <td>64821.33</td>\n",
       "      <td>1583.28</td>\n",
       "      <td>1.028043e+08</td>\n",
       "    </tr>\n",
       "    <tr>\n",
       "      <th>2021-11-12</th>\n",
       "      <td>63755.01</td>\n",
       "      <td>65497.53</td>\n",
       "      <td>64821.33</td>\n",
       "      <td>64084.81</td>\n",
       "      <td>656.18</td>\n",
       "      <td>4.247396e+07</td>\n",
       "    </tr>\n",
       "  </tbody>\n",
       "</table>\n",
       "</div>"
      ],
      "text/plain": [
       "                 low      high      open     close  volumefrom      volumeto\n",
       "datetime                                                                    \n",
       "2021-11-08  63300.00  67803.55  63300.00  67559.00     2715.42  1.785721e+08\n",
       "2021-11-09  66250.00  68564.40  67559.00  66945.72     2136.86  1.442011e+08\n",
       "2021-11-10  62856.71  69000.00  66945.72  64921.43     3419.12  2.265382e+08\n",
       "2021-11-11  64140.00  65625.44  64921.43  64821.33     1583.28  1.028043e+08\n",
       "2021-11-12  63755.01  65497.53  64821.33  64084.81      656.18  4.247396e+07"
      ]
     },
     "execution_count": 6,
     "metadata": {},
     "output_type": "execute_result"
    }
   ],
   "source": [
    "df.tail()"
   ]
  },
  {
   "cell_type": "code",
   "execution_count": 7,
   "id": "ba1974d8",
   "metadata": {},
   "outputs": [],
   "source": [
    "def plot_data(df, from_symbol, to_symbol):  \n",
    "    from pandas.plotting import register_matplotlib_converters\n",
    "    register_matplotlib_converters()\n",
    "    \n",
    "    plt.figure(figsize=(15,5))\n",
    "    plt.title('{} / {} price data'.format(from_symbol, to_symbol))\n",
    "    plt.plot(df.index, df.close)\n",
    "    plt.legend()\n",
    "    plt.show()\n",
    "    \n",
    "    return None"
   ]
  },
  {
   "cell_type": "code",
   "execution_count": 8,
   "id": "2b45eda5",
   "metadata": {},
   "outputs": [
    {
     "name": "stderr",
     "output_type": "stream",
     "text": [
      "No handles with labels found to put in legend.\n"
     ]
    },
    {
     "data": {
      "image/png": "[encoded data removed]",
      "text/plain": [
       "<Figure size 1080x360 with 1 Axes>"
      ]
     },
     "metadata": {
      "needs_background": "light"
     },
     "output_type": "display_data"
    }
   ],
   "source": [
    "plot_data(df, from_symbol, to_symbol)"
   ]
  },
  {
   "cell_type": "code",
   "execution_count": 9,
   "id": "d554b772",
   "metadata": {},
   "outputs": [],
   "source": [
    "#change to consider close, low, high,, volumefrome and volumeto\n",
    "from sklearn.preprocessing import MinMaxScaler\n",
    "values = df['close'].values.reshape(-1,1)\n",
    "values = values.astype('float32')\n",
    "scaler = MinMaxScaler(feature_range=(0, 1))\n",
    "scaled = scaler.fit_transform(values)"
   ]
  },
  {
   "cell_type": "code",
   "execution_count": 10,
   "id": "70000cf4",
   "metadata": {},
   "outputs": [
    {
     "name": "stdout",
     "output_type": "stream",
     "text": [
      "1400 601\n"
     ]
    }
   ],
   "source": [
    "train_size = int(len(scaled) * 0.7)\n",
    "test_size = len(scaled) - train_size\n",
    "train, test = scaled[0:train_size,:], scaled[train_size:len(scaled),:]\n",
    "print(len(train), len(test))"
   ]
  },
  {
   "cell_type": "code",
   "execution_count": 11,
   "id": "53c66ac6",
   "metadata": {},
   "outputs": [],
   "source": [
    "def create_dataset(dataset, look_back=1):\n",
    "    dataX, dataY = [], []\n",
    "    for i in range(len(dataset) - look_back):\n",
    "        a = dataset[i:(i + look_back), 0]\n",
    "        dataX.append(a)\n",
    "        dataY.append(dataset[i + look_back, 0])\n",
    "    print(len(dataY))\n",
    "    return np.array(dataX), np.array(dataY)"
   ]
  },
  {
   "cell_type": "code",
   "execution_count": 12,
   "id": "469aedf0",
   "metadata": {},
   "outputs": [
    {
     "name": "stdout",
     "output_type": "stream",
     "text": [
      "1399\n",
      "600\n"
     ]
    }
   ],
   "source": [
    "look_back = 1\n",
    "X_train, y_train = create_dataset(train, look_back)\n",
    "X_test, y_test = create_dataset(test, look_back)"
   ]
  },
  {
   "cell_type": "code",
   "execution_count": 13,
   "id": "3172c997",
   "metadata": {},
   "outputs": [],
   "source": [
    "X_train = np.reshape(X_train, (X_train.shape[0], 1, X_train.shape[1]))\n",
    "X_test = np.reshape(X_test, (X_test.shape[0], 1, X_test.shape[1]))"
   ]
  },
  {
   "cell_type": "code",
   "execution_count": 14,
   "id": "19430c8c",
   "metadata": {},
   "outputs": [
    {
     "name": "stdout",
     "output_type": "stream",
     "text": [
      "Model: \"sequential\"\n",
      "_________________________________________________________________\n",
      "Layer (type)                 Output Shape              Param #   \n",
      "=================================================================\n",
      "lstm (LSTM)                  (None, 1, 50)             10400     \n",
      "_________________________________________________________________\n",
      "dropout (Dropout)            (None, 1, 50)             0         \n",
      "_________________________________________________________________\n",
      "lstm_1 (LSTM)                (None, 1, 60)             26640     \n",
      "_________________________________________________________________\n",
      "dropout_1 (Dropout)          (None, 1, 60)             0         \n",
      "_________________________________________________________________\n",
      "lstm_2 (LSTM)                (None, 1, 80)             45120     \n",
      "_________________________________________________________________\n",
      "dropout_2 (Dropout)          (None, 1, 80)             0         \n",
      "_________________________________________________________________\n",
      "dense (Dense)                (None, 1, 1)              81        \n",
      "=================================================================\n",
      "Total params: 82,241\n",
      "Trainable params: 82,241\n",
      "Non-trainable params: 0\n",
      "_________________________________________________________________\n"
     ]
    }
   ],
   "source": [
    "from tensorflow.keras import Sequential\n",
    "from tensorflow.keras.layers import Dense, LSTM, Dropout\n",
    "#Initialize the RNN\n",
    "model = Sequential() \n",
    "model.add(LSTM(units = 50, activation = 'relu', return_sequences = True, input_shape=(X_train.shape[1],X_train.shape[2])))\n",
    "model.add(Dropout(0.2)) \n",
    "model.add(LSTM(units = 60, activation = 'relu', return_sequences = True))\n",
    "model.add(Dropout(0.2)) \n",
    "model.add(LSTM(units = 80, activation = 'relu', return_sequences = True))\n",
    "model.add(Dropout(0.5)) \n",
    "#model.add(LSTM(units = 120, activation = 'relu'))\n",
    "#model.add(Dropout(0.5)) \n",
    "model.add(Dense(units =1))\n",
    "model.summary()"
   ]
  },
  {
   "cell_type": "code",
   "execution_count": 15,
   "id": "6594acc3",
   "metadata": {},
   "outputs": [],
   "source": [
    "model.compile(optimizer = 'adam', loss = 'mean_squared_error', metrics=['accuracy'])"
   ]
  },
  {
   "cell_type": "code",
   "execution_count": 16,
   "id": "d02a9c89",
   "metadata": {},
   "outputs": [
    {
     "name": "stdout",
     "output_type": "stream",
     "text": [
      "Epoch 1/50\n",
      "109/112 [============================>.] - ETA: 0s - loss: 0.0035 - accuracy: 0.0000e+00\n",
      "Epoch 00001: val_loss improved from inf to 0.00539, saving model to my_best_model.hdf5\n",
      "112/112 [==============================] - 2s 18ms/step - loss: 0.0034 - accuracy: 0.0000e+00 - val_loss: 0.0054 - val_accuracy: 0.0000e+00\n",
      "Epoch 2/50\n",
      "111/112 [============================>.] - ETA: 0s - loss: 0.0025 - accuracy: 0.0000e+00\n",
      "Epoch 00002: val_loss improved from 0.00539 to 0.00173, saving model to my_best_model.hdf5\n",
      "112/112 [==============================] - 1s 7ms/step - loss: 0.0025 - accuracy: 0.0000e+00 - val_loss: 0.0017 - val_accuracy: 0.0000e+00\n",
      "Epoch 3/50\n",
      "102/112 [==========================>...] - ETA: 0s - loss: 5.0924e-04 - accuracy: 0.0000e+00\n",
      "Epoch 00003: val_loss improved from 0.00173 to 0.00011, saving model to my_best_model.hdf5\n",
      "112/112 [==============================] - 1s 8ms/step - loss: 4.9776e-04 - accuracy: 0.0000e+00 - val_loss: 1.1409e-04 - val_accuracy: 0.0000e+00\n",
      "Epoch 4/50\n",
      "110/112 [============================>.] - ETA: 0s - loss: 3.0820e-04 - accuracy: 0.0000e+00\n",
      "Epoch 00004: val_loss improved from 0.00011 to 0.00005, saving model to my_best_model.hdf5\n",
      "112/112 [==============================] - 1s 7ms/step - loss: 3.0496e-04 - accuracy: 0.0000e+00 - val_loss: 5.3055e-05 - val_accuracy: 0.0000e+00\n",
      "Epoch 5/50\n",
      "106/112 [===========================>..] - ETA: 0s - loss: 2.7778e-04 - accuracy: 0.0000e+00\n",
      "Epoch 00005: val_loss did not improve from 0.00005\n",
      "112/112 [==============================] - 1s 8ms/step - loss: 2.8793e-04 - accuracy: 0.0000e+00 - val_loss: 5.8339e-05 - val_accuracy: 0.0000e+00\n",
      "Epoch 6/50\n",
      "110/112 [============================>.] - ETA: 0s - loss: 3.3383e-04 - accuracy: 0.0000e+00\n",
      "Epoch 00006: val_loss improved from 0.00005 to 0.00004, saving model to my_best_model.hdf5\n",
      "112/112 [==============================] - 1s 12ms/step - loss: 3.3040e-04 - accuracy: 0.0000e+00 - val_loss: 4.2662e-05 - val_accuracy: 0.0000e+00\n",
      "Epoch 7/50\n",
      "111/112 [============================>.] - ETA: 0s - loss: 2.8608e-04 - accuracy: 0.0000e+00\n",
      "Epoch 00007: val_loss did not improve from 0.00004\n",
      "112/112 [==============================] - 1s 11ms/step - loss: 2.8713e-04 - accuracy: 0.0000e+00 - val_loss: 5.5480e-05 - val_accuracy: 0.0000e+00\n",
      "Epoch 8/50\n",
      "111/112 [============================>.] - ETA: 0s - loss: 2.7339e-04 - accuracy: 0.0000e+00\n",
      "Epoch 00008: val_loss did not improve from 0.00004\n",
      "112/112 [==============================] - 1s 11ms/step - loss: 2.7283e-04 - accuracy: 0.0000e+00 - val_loss: 1.5625e-04 - val_accuracy: 0.0000e+00\n",
      "Epoch 9/50\n",
      "104/112 [==========================>...] - ETA: 0s - loss: 2.8504e-04 - accuracy: 0.0000e+00\n",
      "Epoch 00009: val_loss did not improve from 0.00004\n",
      "112/112 [==============================] - 1s 7ms/step - loss: 2.9308e-04 - accuracy: 0.0000e+00 - val_loss: 5.3456e-05 - val_accuracy: 0.0000e+00\n",
      "Epoch 10/50\n",
      "105/112 [===========================>..] - ETA: 0s - loss: 2.3515e-04 - accuracy: 0.0000e+00\n",
      "Epoch 00010: val_loss did not improve from 0.00004\n",
      "112/112 [==============================] - 1s 9ms/step - loss: 2.3886e-04 - accuracy: 0.0000e+00 - val_loss: 9.9438e-05 - val_accuracy: 0.0000e+00\n",
      "Epoch 11/50\n",
      "108/112 [===========================>..] - ETA: 0s - loss: 2.8762e-04 - accuracy: 0.0000e+00\n",
      "Epoch 00011: val_loss did not improve from 0.00004\n",
      "112/112 [==============================] - 1s 7ms/step - loss: 2.9413e-04 - accuracy: 0.0000e+00 - val_loss: 8.3258e-05 - val_accuracy: 0.0000e+00\n",
      "Epoch 12/50\n",
      "106/112 [===========================>..] - ETA: 0s - loss: 2.7183e-04 - accuracy: 0.0000e+00\n",
      "Epoch 00012: val_loss did not improve from 0.00004\n",
      "112/112 [==============================] - 1s 7ms/step - loss: 3.0245e-04 - accuracy: 0.0000e+00 - val_loss: 3.1436e-04 - val_accuracy: 0.0000e+00\n",
      "Epoch 13/50\n",
      "111/112 [============================>.] - ETA: 0s - loss: 2.9631e-04 - accuracy: 0.0000e+00\n",
      "Epoch 00013: val_loss improved from 0.00004 to 0.00004, saving model to my_best_model.hdf5\n",
      "112/112 [==============================] - 1s 6ms/step - loss: 2.9698e-04 - accuracy: 0.0000e+00 - val_loss: 3.9298e-05 - val_accuracy: 0.0000e+00\n",
      "Epoch 14/50\n",
      "112/112 [==============================] - ETA: 0s - loss: 3.0249e-04 - accuracy: 0.0000e+00\n",
      "Epoch 00014: val_loss did not improve from 0.00004\n",
      "112/112 [==============================] - 1s 5ms/step - loss: 3.0249e-04 - accuracy: 0.0000e+00 - val_loss: 5.4963e-05 - val_accuracy: 0.0000e+00\n",
      "Epoch 15/50\n",
      "109/112 [============================>.] - ETA: 0s - loss: 2.6378e-04 - accuracy: 0.0000e+00\n",
      "Epoch 00015: val_loss did not improve from 0.00004\n",
      "112/112 [==============================] - 1s 6ms/step - loss: 2.6307e-04 - accuracy: 0.0000e+00 - val_loss: 4.5160e-05 - val_accuracy: 0.0000e+00\n",
      "Epoch 16/50\n",
      "111/112 [============================>.] - ETA: 0s - loss: 3.0965e-04 - accuracy: 0.0000e+00\n",
      "Epoch 00016: val_loss did not improve from 0.00004\n",
      "112/112 [==============================] - 1s 11ms/step - loss: 3.0869e-04 - accuracy: 0.0000e+00 - val_loss: 9.6144e-05 - val_accuracy: 0.0000e+00\n",
      "Epoch 17/50\n",
      "108/112 [===========================>..] - ETA: 0s - loss: 2.7229e-04 - accuracy: 0.0000e+00\n",
      "Epoch 00017: val_loss did not improve from 0.00004\n",
      "112/112 [==============================] - 1s 11ms/step - loss: 2.6892e-04 - accuracy: 0.0000e+00 - val_loss: 5.0710e-05 - val_accuracy: 0.0000e+00\n",
      "Epoch 18/50\n",
      "110/112 [============================>.] - ETA: 0s - loss: 2.7549e-04 - accuracy: 0.0000e+00\n",
      "Epoch 00018: val_loss did not improve from 0.00004\n",
      "112/112 [==============================] - 1s 11ms/step - loss: 2.7335e-04 - accuracy: 0.0000e+00 - val_loss: 8.5627e-05 - val_accuracy: 0.0000e+00\n",
      "Epoch 19/50\n",
      "112/112 [==============================] - ETA: 0s - loss: 2.4722e-04 - accuracy: 0.0000e+00\n",
      "Epoch 00019: val_loss did not improve from 0.00004\n",
      "112/112 [==============================] - 1s 11ms/step - loss: 2.4722e-04 - accuracy: 0.0000e+00 - val_loss: 8.4047e-05 - val_accuracy: 0.0000e+00\n",
      "Epoch 20/50\n",
      "110/112 [============================>.] - ETA: 0s - loss: 2.5828e-04 - accuracy: 0.0000e+00\n",
      "Epoch 00020: val_loss did not improve from 0.00004\n",
      "112/112 [==============================] - 1s 11ms/step - loss: 2.5652e-04 - accuracy: 0.0000e+00 - val_loss: 8.5848e-05 - val_accuracy: 0.0000e+00\n",
      "Epoch 21/50\n",
      "110/112 [============================>.] - ETA: 0s - loss: 2.6837e-04 - accuracy: 0.0000e+00\n",
      "Epoch 00021: val_loss did not improve from 0.00004\n",
      "112/112 [==============================] - 1s 10ms/step - loss: 2.7178e-04 - accuracy: 0.0000e+00 - val_loss: 1.1570e-04 - val_accuracy: 0.0000e+00\n",
      "Epoch 22/50\n",
      "111/112 [============================>.] - ETA: 0s - loss: 2.4621e-04 - accuracy: 0.0000e+00\n",
      "Epoch 00022: val_loss did not improve from 0.00004\n",
      "112/112 [==============================] - 1s 12ms/step - loss: 2.4543e-04 - accuracy: 0.0000e+00 - val_loss: 6.6850e-05 - val_accuracy: 0.0000e+00\n",
      "Epoch 23/50\n",
      "108/112 [===========================>..] - ETA: 0s - loss: 2.6553e-04 - accuracy: 0.0000e+00\n",
      "Epoch 00023: val_loss did not improve from 0.00004\n",
      "112/112 [==============================] - 1s 11ms/step - loss: 2.6269e-04 - accuracy: 0.0000e+00 - val_loss: 5.5653e-05 - val_accuracy: 0.0000e+00\n",
      "Epoch 24/50\n",
      "108/112 [===========================>..] - ETA: 0s - loss: 2.6625e-04 - accuracy: 0.0000e+00\n",
      "Epoch 00024: val_loss did not improve from 0.00004\n",
      "112/112 [==============================] - 1s 11ms/step - loss: 2.6272e-04 - accuracy: 0.0000e+00 - val_loss: 5.2871e-05 - val_accuracy: 0.0000e+00\n",
      "Epoch 25/50\n",
      "110/112 [============================>.] - ETA: 0s - loss: 2.6992e-04 - accuracy: 0.0000e+00\n",
      "Epoch 00025: val_loss did not improve from 0.00004\n",
      "112/112 [==============================] - 1s 9ms/step - loss: 2.6822e-04 - accuracy: 0.0000e+00 - val_loss: 6.3069e-05 - val_accuracy: 0.0000e+00\n",
      "Epoch 26/50\n",
      "108/112 [===========================>..] - ETA: 0s - loss: 2.5913e-04 - accuracy: 0.0000e+00\n",
      "Epoch 00026: val_loss did not improve from 0.00004\n",
      "112/112 [==============================] - 1s 7ms/step - loss: 2.5674e-04 - accuracy: 0.0000e+00 - val_loss: 8.4556e-05 - val_accuracy: 0.0000e+00\n",
      "Epoch 27/50\n"
     ]
    },
    {
     "name": "stdout",
     "output_type": "stream",
     "text": [
      "112/112 [==============================] - ETA: 0s - loss: 2.4419e-04 - accuracy: 0.0000e+00\n",
      "Epoch 00027: val_loss did not improve from 0.00004\n",
      "112/112 [==============================] - 1s 7ms/step - loss: 2.4419e-04 - accuracy: 0.0000e+00 - val_loss: 5.4394e-05 - val_accuracy: 0.0000e+00\n",
      "Epoch 28/50\n",
      "107/112 [===========================>..] - ETA: 0s - loss: 2.7099e-04 - accuracy: 0.0000e+00\n",
      "Epoch 00028: val_loss did not improve from 0.00004\n",
      "112/112 [==============================] - 1s 6ms/step - loss: 2.7170e-04 - accuracy: 0.0000e+00 - val_loss: 4.2450e-05 - val_accuracy: 0.0000e+00\n",
      "Epoch 29/50\n",
      "108/112 [===========================>..] - ETA: 0s - loss: 2.9875e-04 - accuracy: 0.0000e+00\n",
      "Epoch 00029: val_loss did not improve from 0.00004\n",
      "112/112 [==============================] - 1s 6ms/step - loss: 2.9428e-04 - accuracy: 0.0000e+00 - val_loss: 4.1651e-05 - val_accuracy: 0.0000e+00\n",
      "Epoch 30/50\n",
      "108/112 [===========================>..] - ETA: 0s - loss: 2.4079e-04 - accuracy: 0.0000e+00\n",
      "Epoch 00030: val_loss did not improve from 0.00004\n",
      "112/112 [==============================] - 1s 6ms/step - loss: 2.4450e-04 - accuracy: 0.0000e+00 - val_loss: 3.9376e-05 - val_accuracy: 0.0000e+00\n",
      "Epoch 31/50\n",
      "108/112 [===========================>..] - ETA: 0s - loss: 2.9978e-04 - accuracy: 0.0000e+00\n",
      "Epoch 00031: val_loss did not improve from 0.00004\n",
      "112/112 [==============================] - 1s 10ms/step - loss: 3.0333e-04 - accuracy: 0.0000e+00 - val_loss: 6.5732e-05 - val_accuracy: 0.0000e+00\n",
      "Epoch 32/50\n",
      "111/112 [============================>.] - ETA: 0s - loss: 2.8717e-04 - accuracy: 0.0000e+00\n",
      "Epoch 00032: val_loss did not improve from 0.00004\n",
      "112/112 [==============================] - 1s 11ms/step - loss: 2.9217e-04 - accuracy: 0.0000e+00 - val_loss: 6.9326e-05 - val_accuracy: 0.0000e+00\n",
      "Epoch 33/50\n",
      "112/112 [==============================] - ETA: 0s - loss: 2.5670e-04 - accuracy: 0.0000e+00\n",
      "Epoch 00033: val_loss did not improve from 0.00004\n",
      "112/112 [==============================] - 1s 12ms/step - loss: 2.5670e-04 - accuracy: 0.0000e+00 - val_loss: 8.5340e-05 - val_accuracy: 0.0000e+00\n",
      "Epoch 34/50\n",
      "111/112 [============================>.] - ETA: 0s - loss: 3.2853e-04 - accuracy: 0.0000e+00\n",
      "Epoch 00034: val_loss did not improve from 0.00004\n",
      "112/112 [==============================] - 1s 12ms/step - loss: 3.2780e-04 - accuracy: 0.0000e+00 - val_loss: 4.4089e-05 - val_accuracy: 0.0000e+00\n",
      "Epoch 35/50\n",
      "112/112 [==============================] - ETA: 0s - loss: 2.5488e-04 - accuracy: 0.0000e+00\n",
      "Epoch 00035: val_loss did not improve from 0.00004\n",
      "112/112 [==============================] - 1s 12ms/step - loss: 2.5488e-04 - accuracy: 0.0000e+00 - val_loss: 1.9675e-04 - val_accuracy: 0.0000e+00\n",
      "Epoch 36/50\n",
      "110/112 [============================>.] - ETA: 0s - loss: 2.5633e-04 - accuracy: 0.0000e+00\n",
      "Epoch 00036: val_loss did not improve from 0.00004\n",
      "112/112 [==============================] - 1s 12ms/step - loss: 2.5380e-04 - accuracy: 0.0000e+00 - val_loss: 5.0291e-05 - val_accuracy: 0.0000e+00\n",
      "Epoch 37/50\n",
      "108/112 [===========================>..] - ETA: 0s - loss: 2.6309e-04 - accuracy: 0.0000e+00\n",
      "Epoch 00037: val_loss did not improve from 0.00004\n",
      "112/112 [==============================] - 1s 12ms/step - loss: 2.6386e-04 - accuracy: 0.0000e+00 - val_loss: 4.7106e-05 - val_accuracy: 0.0000e+00\n",
      "Epoch 38/50\n",
      "110/112 [============================>.] - ETA: 0s - loss: 2.1744e-04 - accuracy: 0.0000e+00\n",
      "Epoch 00038: val_loss did not improve from 0.00004\n",
      "112/112 [==============================] - 1s 12ms/step - loss: 2.1714e-04 - accuracy: 0.0000e+00 - val_loss: 4.6515e-05 - val_accuracy: 0.0000e+00\n",
      "Epoch 39/50\n",
      "112/112 [==============================] - ETA: 0s - loss: 2.5149e-04 - accuracy: 0.0000e+00 ETA: 0s - loss: 2\n",
      "Epoch 00039: val_loss did not improve from 0.00004\n",
      "112/112 [==============================] - 1s 12ms/step - loss: 2.5149e-04 - accuracy: 0.0000e+00 - val_loss: 7.2580e-05 - val_accuracy: 0.0000e+00\n",
      "Epoch 40/50\n",
      "112/112 [==============================] - ETA: 0s - loss: 2.3468e-04 - accuracy: 0.0000e+00\n",
      "Epoch 00040: val_loss did not improve from 0.00004\n",
      "112/112 [==============================] - 1s 11ms/step - loss: 2.3468e-04 - accuracy: 0.0000e+00 - val_loss: 5.5599e-05 - val_accuracy: 0.0000e+00\n",
      "Epoch 41/50\n",
      "110/112 [============================>.] - ETA: 0s - loss: 2.3817e-04 - accuracy: 0.0000e+00\n",
      "Epoch 00041: val_loss did not improve from 0.00004\n",
      "112/112 [==============================] - 1s 11ms/step - loss: 2.3778e-04 - accuracy: 0.0000e+00 - val_loss: 7.0698e-05 - val_accuracy: 0.0000e+00\n",
      "Epoch 42/50\n",
      "103/112 [==========================>...] - ETA: 0s - loss: 2.2031e-04 - accuracy: 0.0000e+00\n",
      "Epoch 00042: val_loss improved from 0.00004 to 0.00004, saving model to my_best_model.hdf5\n",
      "112/112 [==============================] - 1s 9ms/step - loss: 2.3153e-04 - accuracy: 0.0000e+00 - val_loss: 3.8436e-05 - val_accuracy: 0.0000e+00\n",
      "Epoch 43/50\n",
      "101/112 [==========================>...] - ETA: 0s - loss: 2.3667e-04 - accuracy: 0.0000e+00\n",
      "Epoch 00043: val_loss did not improve from 0.00004\n",
      "112/112 [==============================] - 1s 6ms/step - loss: 2.3534e-04 - accuracy: 0.0000e+00 - val_loss: 4.0282e-05 - val_accuracy: 0.0000e+00\n",
      "Epoch 44/50\n",
      "107/112 [===========================>..] - ETA: 0s - loss: 2.2853e-04 - accuracy: 0.0000e+00\n",
      "Epoch 00044: val_loss did not improve from 0.00004\n",
      "112/112 [==============================] - 1s 5ms/step - loss: 2.2827e-04 - accuracy: 0.0000e+00 - val_loss: 4.2496e-05 - val_accuracy: 0.0000e+00\n",
      "Epoch 45/50\n",
      "111/112 [============================>.] - ETA: 0s - loss: 2.5829e-04 - accuracy: 0.0000e+00\n",
      "Epoch 00045: val_loss did not improve from 0.00004\n",
      "112/112 [==============================] - 1s 12ms/step - loss: 2.5790e-04 - accuracy: 0.0000e+00 - val_loss: 9.7848e-05 - val_accuracy: 0.0000e+00\n",
      "Epoch 46/50\n",
      "109/112 [============================>.] - ETA: 0s - loss: 2.2080e-04 - accuracy: 0.0000e+00\n",
      "Epoch 00046: val_loss did not improve from 0.00004\n",
      "112/112 [==============================] - 1s 12ms/step - loss: 2.2337e-04 - accuracy: 0.0000e+00 - val_loss: 1.1250e-04 - val_accuracy: 0.0000e+00\n",
      "Epoch 47/50\n",
      "108/112 [===========================>..] - ETA: 0s - loss: 2.4504e-04 - accuracy: 0.0000e+00\n",
      "Epoch 00047: val_loss did not improve from 0.00004\n",
      "112/112 [==============================] - 1s 12ms/step - loss: 2.4199e-04 - accuracy: 0.0000e+00 - val_loss: 3.9803e-05 - val_accuracy: 0.0000e+00\n",
      "Epoch 48/50\n",
      "109/112 [============================>.] - ETA: 0s - loss: 1.9473e-04 - accuracy: 0.0000e+00\n",
      "Epoch 00048: val_loss did not improve from 0.00004\n",
      "112/112 [==============================] - 1s 12ms/step - loss: 1.9377e-04 - accuracy: 0.0000e+00 - val_loss: 7.6856e-05 - val_accuracy: 0.0000e+00\n",
      "Epoch 49/50\n",
      "104/112 [==========================>...] - ETA: 0s - loss: 2.2502e-04 - accuracy: 0.0000e+00\n",
      "Epoch 00049: val_loss did not improve from 0.00004\n",
      "112/112 [==============================] - 1s 6ms/step - loss: 2.1720e-04 - accuracy: 0.0000e+00 - val_loss: 4.0059e-05 - val_accuracy: 0.0000e+00\n",
      "Epoch 50/50\n",
      "111/112 [============================>.] - ETA: 0s - loss: 2.6022e-04 - accuracy: 0.0000e+00\n",
      "Epoch 00050: val_loss did not improve from 0.00004\n",
      "112/112 [==============================] - 1s 12ms/step - loss: 2.5899e-04 - accuracy: 0.0000e+00 - val_loss: 4.0485e-05 - val_accuracy: 0.0000e+00\n"
     ]
    },
    {
     "data": {
      "image/png": "[encoded data removed]",
      "text/plain": [
       "<Figure size 432x288 with 1 Axes>"
      ]
     },
     "metadata": {
      "needs_background": "light"
     },
     "output_type": "display_data"
    }
   ],
   "source": [
    "#create callback\n",
    "filepath = 'my_best_model.hdf5'\n",
    "checkpoint = ModelCheckpoint(filepath=filepath, \n",
    "                             monitor='val_loss',\n",
    "                             verbose=1, \n",
    "                             save_best_only=True,\n",
    "                             mode='min')\n",
    "callbacks = [checkpoint]\n",
    "\n",
    "#fit the model\n",
    "history = model.fit(X_train,\n",
    "                  y_train,\n",
    "                  batch_size=10,\n",
    "                  epochs=50,\n",
    "                  validation_split=0.2,\n",
    "                  callbacks=callbacks)\n",
    "\n",
    "#plot the training history\n",
    "plt.plot(history.history['loss'], label='Training Loss')\n",
    "plt.plot(history.history['val_loss'], label='Validation Loss')\n",
    "plt.legend()\n",
    "plt.xlabel('Epochs')\n",
    "plt.ylabel('Mean Squared Error')\n",
    "plt.savefig('model_training_history')\n",
    "plt.show()"
   ]
  },
  {
   "cell_type": "code",
   "execution_count": 17,
   "id": "0a9c7a15",
   "metadata": {},
   "outputs": [],
   "source": [
    "model = load_model(filepath)"
   ]
  },
  {
   "cell_type": "code",
   "execution_count": 18,
   "id": "c9f59b41",
   "metadata": {},
   "outputs": [],
   "source": [
    "Y_pred = model.predict(X_test) "
   ]
  },
  {
   "cell_type": "code",
   "execution_count": 19,
   "id": "e74241c0",
   "metadata": {},
   "outputs": [],
   "source": [
    "pred_inverse = scaler.inverse_transform(Y_pred.reshape(-1, 1))\n",
    "Ytest_inverse = scaler.inverse_transform(y_test.reshape(-1, 1))"
   ]
  },
  {
   "cell_type": "code",
   "execution_count": 20,
   "id": "dfd1b899",
   "metadata": {},
   "outputs": [
    {
     "name": "stdout",
     "output_type": "stream",
     "text": [
      "Test RMSE: 5022.094\n"
     ]
    }
   ],
   "source": [
    "rmse = sqrt(mean_squared_error(Ytest_inverse, pred_inverse))\n",
    "print('Test RMSE: %.3f' % rmse)"
   ]
  },
  {
   "cell_type": "code",
   "execution_count": 21,
   "id": "5cd6497e",
   "metadata": {},
   "outputs": [],
   "source": [
    "predictDates = df.tail(len(X_test)).index"
   ]
  },
  {
   "cell_type": "code",
   "execution_count": 22,
   "id": "6d75f581",
   "metadata": {},
   "outputs": [
    {
     "data": {
      "image/png": "[encoded data removed]",
      "text/plain": [
       "<Figure size 1008x360 with 1 Axes>"
      ]
     },
     "metadata": {
      "needs_background": "light"
     },
     "output_type": "display_data"
    }
   ],
   "source": [
    "plt.figure(figsize=(14,5))\n",
    "plt.plot(predictDates,Ytest_inverse, color = 'red', label = 'Real Bitcoin Price')\n",
    "plt.plot(predictDates,pred_inverse, color = 'green', label = 'Predicted Bitcoin Price')\n",
    "plt.title('Bitcoin Price Prediction (LSTM)')\n",
    "plt.xlabel('Time')\n",
    "plt.ylabel('Price')\n",
    "plt.legend()\n",
    "plt.show()"
   ]
  }
 ],
 "metadata": {
  "kernelspec": {
   "display_name": "Python 3 (ipykernel)",
   "language": "python",
   "name": "python3"
  },
  "language_info": {
   "codemirror_mode": {
    "name": "ipython",
    "version": 3
   },
   "file_extension": ".py",
   "mimetype": "text/x-python",
   "name": "python",
   "nbconvert_exporter": "python",
   "pygments_lexer": "ipython3",
   "version": "3.8.11"
  }
 },
 "nbformat": 4,
 "nbformat_minor": 5
}
