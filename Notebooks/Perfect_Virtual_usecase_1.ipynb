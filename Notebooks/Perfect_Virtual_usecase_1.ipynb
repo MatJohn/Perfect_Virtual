{
 "cells": [
  {
   "cell_type": "markdown",
   "id": "1165cd77",
   "metadata": {},
   "source": [
    "# Perfect Virtual- \n",
    "Cryptocurrency usecase: Utilise a form  of Recurrent Neural Network (RNN) model for the prediction of Bitcoin prices from historical data and analysis of social media trends. \n",
    "## Build Process:\n",
    "1. Generate API key to access Bitcoin data from the [cryptocompare API](https://min-api.cryptocompare.com/)\n",
    "2. Choose relevent data features e.g. price, volume, online engagement\n",
    "3. Preprocess the data\n",
    "4. Build the model architecture \n",
    "5. Train the model\n",
    "6. Evaluate model performance\n",
    "7. Identify feature importance"
   ]
  },
  {
   "cell_type": "markdown",
   "id": "7b9e855e",
   "metadata": {},
   "source": [
    "## Load the necessary libraries and packages:"
   ]
  },
  {
   "cell_type": "code",
   "execution_count": 1,
   "id": "14ce4eb8",
   "metadata": {},
   "outputs": [],
   "source": [
    "import numpy as np \n",
    "import pandas as pd\n",
    "import matplotlib as plt\n",
    "import keras \n",
    "from keras import layers\n",
    "import cryptocompare"
   ]
  },
  {
   "cell_type": "markdown",
   "id": "93814778",
   "metadata": {},
   "source": [
    "## Set the API key for retrieving data:"
   ]
  },
  {
   "cell_type": "code",
   "execution_count": null,
   "id": "9556521a",
   "metadata": {},
   "outputs": [],
   "source": [
    "cryptocompare.cryptocompare._set_api_key_parameter(KEY_HERE)"
   ]
  },
  {
   "cell_type": "markdown",
   "id": "76aef593",
   "metadata": {},
   "source": []
  },
  {
   "cell_type": "code",
   "execution_count": null,
   "id": "a8011cf3",
   "metadata": {},
   "outputs": [],
   "source": []
  }
 ],
 "metadata": {
  "kernelspec": {
   "display_name": "Python 3 (ipykernel)",
   "language": "python",
   "name": "python3"
  },
  "language_info": {
   "codemirror_mode": {
    "name": "ipython",
    "version": 3
   },
   "file_extension": ".py",
   "mimetype": "text/x-python",
   "name": "python",
   "nbconvert_exporter": "python",
   "pygments_lexer": "ipython3",
   "version": "3.8.11"
  }
 },
 "nbformat": 4,
 "nbformat_minor": 5
}
