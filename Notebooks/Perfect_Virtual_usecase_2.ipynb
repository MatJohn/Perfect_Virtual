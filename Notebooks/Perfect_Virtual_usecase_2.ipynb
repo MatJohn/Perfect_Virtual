{
 "cells": [
  {
   "cell_type": "markdown",
   "id": "f314a4b5",
   "metadata": {},
   "source": [
    "# Perfect Virtual- \n",
    "Cryptocurrency usecase: Utilise a form  of Recurrent Neural Network (RNN) model for the prediction of Bitcoin prices from historical data and analysis of social media trends. \n",
    "## Build Process:\n",
    "1. Generate API key to access Bitcoin data from the [cryptocompare API](https://min-api.cryptocompare.com/)\n",
    "2. Choose relevent data features e.g. price, volume, online engagement\n",
    "3. Preprocess the data\n",
    "4. Build the model architecture \n",
    "5. Train the model\n",
    "6. Evaluate model performance\n",
    "7. Identify feature importance"
   ]
  },
  {
   "cell_type": "markdown",
   "id": "e1d5c541",
   "metadata": {},
   "source": [
    "## Load the necessary libraries and packages:"
   ]
  },
  {
   "cell_type": "code",
   "execution_count": null,
   "id": "01abb204",
   "metadata": {},
   "outputs": [],
   "source": [
    "import numpy as np \n",
    "import pandas as pd\n",
    "import matplotlib.pyplot as plt\n",
    "import keras \n",
    "from keras.models import Sequential\n",
    "from keras import layers\n",
    "from keras.layers import Dense\n",
    "from keras.layers import LSTM\n",
    "from keras.layers import Dropout\n",
    "from sklearn.preprocessing import MinMaxScaler\n",
    "from sklearn.model_selection import train_test_split\n",
    "import cryptocompare\n",
    "import requests\n",
    "import datetime\n",
    "# pretty printing of pandas dataframe\n",
    "pd.set_option('expand_frame_repr', False) "
   ]
  },
  {
   "cell_type": "markdown",
   "id": "5305579d",
   "metadata": {},
   "source": [
    "# Retrieve historical Bitcoin  price data:\n",
    "Define the api key for access to data from Cryptocompare API "
   ]
  },
  {
   "cell_type": "code",
   "execution_count": null,
   "id": "d18ddf01",
   "metadata": {},
   "outputs": [],
   "source": [
    "apiKey = \"98901418980628c0e095f5d511be7435c1cbf090ed813f6c82fc88a8f939c9a3\""
   ]
  },
  {
   "cell_type": "markdown",
   "id": "3cb30d17",
   "metadata": {},
   "source": [
    "## Define function for retrieving json data from the API:"
   ]
  },
  {
   "cell_type": "code",
   "execution_count": null,
   "id": "db9e8569",
   "metadata": {},
   "outputs": [],
   "source": [
    "def daily_price_historical(symbol, comparison_symbol, all_data=True, limit=1, aggregate=1, exchange=''):\n",
    "    url = 'https://min-api.cryptocompare.com/data/histoday?fsym={}&tsym={}&limit={}&aggregate={}'\\\n",
    "        .format(symbol.upper(), comparison_symbol.upper(), limit, aggregate)\n",
    "    if exchange:\n",
    "        url += '&e={}'.format(exchange)\n",
    "    if all_data:\n",
    "        url += '&allData=true'\n",
    "    page = requests.get(url)\n",
    "    data = page.json()['Data']\n",
    "    df = pd.DataFrame(data)\n",
    "    df['timestamp'] = [datetime.datetime.fromtimestamp(d) for d in df.time]\n",
    "    return df"
   ]
  },
  {
   "cell_type": "code",
   "execution_count": null,
   "id": "413db1a7",
   "metadata": {},
   "outputs": [],
   "source": [
    "df = daily_price_historical('BTC','USD')\n",
    "df = df.drop('time', 1)\n",
    "df.head()"
   ]
  },
  {
   "cell_type": "markdown",
   "id": "4214e697",
   "metadata": {},
   "source": [
    "## Define function to plot data:"
   ]
  },
  {
   "cell_type": "code",
   "execution_count": null,
   "id": "282c9f8c",
   "metadata": {},
   "outputs": [],
   "source": [
    "def plot_data(df, cryptocurrency, target_currency):\n",
    "    plt.figure(figsize=(15,5))\n",
    "    plt.title('{} / {} price data'.format(cryptocurrency, target_currency))\n",
    "    plt.plot(df.timestamp, df.close, label ='close')\n",
    "    plt.legend()\n",
    "    plt.show()\n",
    "    \n",
    "    return None"
   ]
  },
  {
   "cell_type": "code",
   "execution_count": null,
   "id": "50a2e453",
   "metadata": {
    "scrolled": true
   },
   "outputs": [],
   "source": [
    "cryptocurrency = 'BTC'\n",
    "target_currency = 'USD'\n",
    "plot_data(df, cryptocurrency, target_currency)"
   ]
  },
  {
   "cell_type": "markdown",
   "id": "640ba2b1",
   "metadata": {},
   "source": [
    "# Retrieve historical Bitcoin social stats data:"
   ]
  },
  {
   "cell_type": "code",
   "execution_count": null,
   "id": "a07ff7e8",
   "metadata": {},
   "outputs": [],
   "source": []
  },
  {
   "cell_type": "markdown",
   "id": "6570b51b",
   "metadata": {},
   "source": [
    "## Create LSTM model for Bitcoin price prediction:"
   ]
  },
  {
   "cell_type": "code",
   "execution_count": null,
   "id": "a549f118",
   "metadata": {},
   "outputs": [],
   "source": [
    "df = df.drop('conversionType', 1)\n",
    "df = df.drop('conversionSymbol',1)\n",
    "df.head()"
   ]
  },
  {
   "cell_type": "code",
   "execution_count": null,
   "id": "83b33588",
   "metadata": {},
   "outputs": [],
   "source": [
    "df.isnull().values.any()"
   ]
  },
  {
   "cell_type": "code",
   "execution_count": null,
   "id": "505e5033",
   "metadata": {},
   "outputs": [],
   "source": [
    "data_training = df[df['timestamp']< '2020-01-01'].copy()\n",
    "data_training"
   ]
  },
  {
   "cell_type": "code",
   "execution_count": null,
   "id": "7d7715e4",
   "metadata": {},
   "outputs": [],
   "source": [
    "data_test = df[df['timestamp']< '2020-01-01'].copy()\n",
    "data_test"
   ]
  },
  {
   "cell_type": "code",
   "execution_count": null,
   "id": "8d63200b",
   "metadata": {},
   "outputs": [],
   "source": [
    "training_data = data_training.drop(['timestamp'], axis = 1)\n",
    "training_data.head()"
   ]
  },
  {
   "cell_type": "code",
   "execution_count": null,
   "id": "001b777b",
   "metadata": {},
   "outputs": [],
   "source": [
    "scaler = MinMaxScaler()\n",
    "training_data = scaler.fit_transform(training_data)\n",
    "training_data"
   ]
  },
  {
   "cell_type": "code",
   "execution_count": null,
   "id": "44151c71",
   "metadata": {},
   "outputs": [],
   "source": [
    "training_data.shape[0]"
   ]
  },
  {
   "cell_type": "code",
   "execution_count": null,
   "id": "d76ceb11",
   "metadata": {},
   "outputs": [],
   "source": [
    "X_train = [] \n",
    "Y_train = []\n",
    "\n",
    "for i in range(60, training_data.shape[0]):\n",
    "    X_train.append(training_data[i-60:i])\n",
    "    Y_train.append(training_data[i,0])\n",
    "X_train, Y_train = np.array(X_train), np.array(Y_train)\n",
    "X_train.shape"
   ]
  },
  {
   "cell_type": "code",
   "execution_count": null,
   "id": "336ff66b",
   "metadata": {},
   "outputs": [],
   "source": [
    "from tensorflow.keras import Sequential\n",
    "from tensorflow.keras.layers import Dense, LSTM, Dropout\n",
    "#Initialize the RNN\n",
    "model = Sequential() \n",
    "model.add(LSTM(units = 50, activation = 'relu', return_sequences = True, input_shape = (X_train.shape[1], 6)))\n",
    "model.add(Dropout(0.2)) \n",
    "model.add(LSTM(units = 60, activation = 'relu', return_sequences = True))\n",
    "model.add(Dropout(0.3)) \n",
    "model.add(LSTM(units = 80, activation = 'relu', return_sequences = True))\n",
    "model.add(Dropout(0.4)) \n",
    "model.add(LSTM(units = 120, activation = 'relu'))\n",
    "model.add(Dropout(0.5)) \n",
    "model.add(Dense(units =1))\n",
    "model.summary()"
   ]
  },
  {
   "cell_type": "code",
   "execution_count": null,
   "id": "468053e0",
   "metadata": {},
   "outputs": [],
   "source": [
    "model.compile(optimizer = 'adam', loss = 'mean_squared_error')"
   ]
  },
  {
   "cell_type": "code",
   "execution_count": null,
   "id": "11e035c1",
   "metadata": {
    "scrolled": true
   },
   "outputs": [],
   "source": [
    "history= model.fit(X_train, Y_train, epochs = 20, batch_size =50, validation_split=0.1)"
   ]
  },
  {
   "cell_type": "code",
   "execution_count": null,
   "id": "11c47626",
   "metadata": {},
   "outputs": [],
   "source": [
    "loss = history.history['loss']\n",
    "val_loss = history.history['val_loss']\n",
    "epochs = range(len(loss))\n",
    "plt.figure()\n",
    "plt.plot(epochs, loss, 'b', label='Training loss')\n",
    "plt.plot(epochs, val_loss, 'r', label='Validation loss')\n",
    "plt.title(\"Training and Validation Loss\")\n",
    "plt.legend()\n",
    "plt.show()"
   ]
  },
  {
   "cell_type": "code",
   "execution_count": null,
   "id": "cbeaa65f",
   "metadata": {},
   "outputs": [],
   "source": [
    "part_60_days = data_training.tail(60)\n",
    "df_1= part_60_days.append(data_test, ignore_index = True)\n",
    "df_1 = df_1.drop(['timestamp'], axis = 1)\n",
    "df_1.head()"
   ]
  },
  {
   "cell_type": "code",
   "execution_count": null,
   "id": "c8d1cea5",
   "metadata": {},
   "outputs": [],
   "source": [
    "inputs = scaler.transform(df_1) \n",
    "#inputs"
   ]
  },
  {
   "cell_type": "code",
   "execution_count": null,
   "id": "bae2cf76",
   "metadata": {},
   "outputs": [],
   "source": [
    "X_test = []\n",
    "Y_test = []\n",
    "for i in range (60, inputs.shape[0]):\n",
    "    X_test.append(inputs[i-60:i]) \n",
    "    Y_test.append(inputs[i, 0])\n",
    "X_test, Y_test = np.array(X_test), np.array(Y_test) \n",
    "#X_test.shape, Y_test.shape\n",
    "Y_pred = model.predict(X_test) \n",
    "#Y_pred, Y_test\n",
    "scaler.scale_"
   ]
  },
  {
   "cell_type": "code",
   "execution_count": null,
   "id": "7e1a02a1",
   "metadata": {},
   "outputs": [],
   "source": [
    "scale = 1/5.18164146e-05\n",
    "Y_test = Y_test*scale \n",
    "Y_pred = Y_pred*scale\n",
    "Y_pred"
   ]
  },
  {
   "cell_type": "code",
   "execution_count": null,
   "id": "bb7424fc",
   "metadata": {},
   "outputs": [],
   "source": [
    "plt.figure(figsize=(14,5))\n",
    "plt.plot(Y_test, color = 'red', label = 'Real Bitcoin Price')\n",
    "plt.plot(Y_pred, color = 'green', label = 'Predicted Bitcoin Price')\n",
    "plt.title('Bitcoin Price Prediction (LSTM)')\n",
    "plt.xlabel('Time')\n",
    "plt.ylabel('Price')\n",
    "plt.legend()\n",
    "plt.show()"
   ]
  }
 ],
 "metadata": {
  "kernelspec": {
   "display_name": "Python 3 (ipykernel)",
   "language": "python",
   "name": "python3"
  },
  "language_info": {
   "codemirror_mode": {
    "name": "ipython",
    "version": 3
   },
   "file_extension": ".py",
   "mimetype": "text/x-python",
   "name": "python",
   "nbconvert_exporter": "python",
   "pygments_lexer": "ipython3",
   "version": "3.8.11"
  }
 },
 "nbformat": 4,
 "nbformat_minor": 5
}
